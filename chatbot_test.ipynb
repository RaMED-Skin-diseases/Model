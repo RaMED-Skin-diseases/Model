{
  "cells": [
    {
      "cell_type": "code",
      "execution_count": null,
      "metadata": {
        "colab": {
          "base_uri": "https://localhost:8080/"
        },
        "id": "34t8WZ8fNyJa",
        "outputId": "e1d72f90-5a70-4f59-aa47-27e69b5ff151"
      },
      "outputs": [
        {
          "name": "stdout",
          "output_type": "stream",
          "text": [
            "🤖 Chatbot reply:\n",
            "Eczema, particularly atopic dermatitis (the most common form), arises from a complex interplay of genetic, immune, and environmental factors. Here's a structured breakdown of the key causes and contributing factors:\n",
            "\n",
            "### 1. **Genetic Predisposition**\n",
            "   - **Filaggrin Mutations**: Loss-of-function mutations in the *FLG* gene reduce filaggrin production, a protein critical for skin barrier integrity. This leads to moisture loss, dryness, and increased permeability to irritants and allergens.\n",
            "   - **Family History**: Eczema often clusters with other atopic conditions (asthma, allergic rhinitis) in families, suggesting a shared genetic susceptibility.\n",
            "\n",
            "### 2. **Immune System Dysregulation**\n",
            "   - **TH2 Dominance**: Overactivation of type 2 helper T-cells drives inflammation, releasing cytokines (e.g., IL-4, IL-13) that cause itching, redness, and skin damage.\n",
            "   - **IgE Overproduction**: Elevated immunoglobulin E (IgE) levels in response to allergens may worsen symptoms.\n",
            "\n",
            "### 3. **Skin Barrier Dysfunction**\n",
            "   - A compromised skin barrier allows allergens, microbes, and irritants to penetrate, triggering immune responses. This dysfunction is central to eczema pathogenesis.\n",
            "\n",
            "### 4. **Environmental Triggers**\n",
            "   - **Irritants**: Harsh soaps, detergents, synthetic fabrics, and chemicals.\n",
            "   - **Allergens**: Pollen, dust mites, pet dander, and certain foods (e.g., eggs, dairy in children).\n",
            "   - **Climate**: Cold, dry air or extreme heat/humidity (via sweating) can exacerbate symptoms.\n",
            "   - **Microbiome Imbalance**: Overgrowth of *Staphylococcus aureus* on eczema-prone skin worsens inflammation.\n",
            "\n",
            "### 5. **Lifestyle and Psychological Factors**\n",
            "   - **Stress**: Activates immune pathways and increases inflammation.\n",
            "   - **Hygiene Hypothesis**: Limited early microbial exposure may predispose to immune dysregulation.\n",
            "\n",
            "### 6. **Other Contributors**\n",
            "   - **Hormonal Changes**: Flares linked to puberty, pregnancy, or menstrual cycles.\n",
            "   - **Diet**: Food allergies may trigger eczema in some (especially children), though evidence is inconsistent.\n",
            "\n",
            "### Key Interactions\n",
            "Eczema typically results from a \"perfect storm\" of genetic susceptibility, barrier defects, immune hyperactivity, and environmental exposures. While triggers vary between individuals, managing the condition often involves addressing these overlapping factors (e.g., moisturizing to repair the skin barrier, avoiding irritants, and controlling inflammation).\n",
            "\n",
            "Note: Other eczema types (e.g., contact dermatitis) have distinct triggers, such as direct irritant or allergic exposures.\n"
          ]
        }
      ],
      "source": [
        "import requests\n",
        "import json\n",
        "\n",
        "#  Replace this with your actual API key\n",
        "api_key = \"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\"\n",
        "\n",
        "#  API endpoint\n",
        "url = \"https://openrouter.ai/api/v1/chat/completions\"\n",
        "\n",
        "#  Choose the model (same as in the HTML example)\n",
        "model = \"deepseek/deepseek-r1:free\"\n",
        "\n",
        "#  User message to send\n",
        "user_message = \"what are the causes of eczema?\"\n",
        "\n",
        "#  API request headers\n",
        "headers = {\n",
        "    \"Authorization\": f\"Bearer {api_key}\",\n",
        "    \"HTTP-Referer\": \"https://www.sitename.com\",  # Replace with your own if needed\n",
        "    \"X-Title\": \"SiteName\",\n",
        "    \"Content-Type\": \"application/json\"\n",
        "}\n",
        "\n",
        "#  Request body\n",
        "payload = {\n",
        "    \"model\": model,\n",
        "    \"messages\": [\n",
        "        {\"role\": \"user\", \"content\": user_message}\n",
        "    ]\n",
        "}\n",
        "\n",
        "#  Make the request\n",
        "response = requests.post(url, headers=headers, json=payload)\n",
        "\n",
        "#  Handle response\n",
        "if response.status_code == 200:\n",
        "    data = response.json()\n",
        "    reply = data.get(\"choices\", [{}])[0].get(\"message\", {}).get(\"content\", \"No content found.\")\n",
        "    print(\"🤖 Chatbot reply:\")\n",
        "    print(reply)\n",
        "else:\n",
        "    print(f\"❌ Error {response.status_code}:\")\n",
        "    print(response.text)\n"
      ]
    }
  ],
  "metadata": {
    "colab": {
      "gpuType": "T4",
      "provenance": []
    },
    "kernelspec": {
      "display_name": "Python 3",
      "name": "python3"
    },
    "language_info": {
      "name": "python"
    }
  },
  "nbformat": 4,
  "nbformat_minor": 0
}
