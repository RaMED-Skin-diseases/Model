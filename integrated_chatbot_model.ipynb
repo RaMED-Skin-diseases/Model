{
 "cells": [
  {
   "cell_type": "code",
   "execution_count": 4,
   "id": "c87de666",
   "metadata": {},
   "outputs": [
    {
     "name": "stderr",
     "output_type": "stream",
     "text": [
      "2025-04-30 17:10:33.432359: E external/local_xla/xla/stream_executor/cuda/cuda_fft.cc:467] Unable to register cuFFT factory: Attempting to register factory for plugin cuFFT when one has already been registered\n",
      "WARNING: All log messages before absl::InitializeLog() is called are written to STDERR\n",
      "E0000 00:00:1746022233.517886   12803 cuda_dnn.cc:8579] Unable to register cuDNN factory: Attempting to register factory for plugin cuDNN when one has already been registered\n",
      "E0000 00:00:1746022233.541802   12803 cuda_blas.cc:1407] Unable to register cuBLAS factory: Attempting to register factory for plugin cuBLAS when one has already been registered\n",
      "W0000 00:00:1746022233.720206   12803 computation_placer.cc:177] computation placer already registered. Please check linkage and avoid linking the same target more than once.\n",
      "W0000 00:00:1746022233.720254   12803 computation_placer.cc:177] computation placer already registered. Please check linkage and avoid linking the same target more than once.\n",
      "W0000 00:00:1746022233.720255   12803 computation_placer.cc:177] computation placer already registered. Please check linkage and avoid linking the same target more than once.\n",
      "W0000 00:00:1746022233.720257   12803 computation_placer.cc:177] computation placer already registered. Please check linkage and avoid linking the same target more than once.\n",
      "2025-04-30 17:10:33.741013: I tensorflow/core/platform/cpu_feature_guard.cc:210] This TensorFlow binary is optimized to use available CPU instructions in performance-critical operations.\n",
      "To enable the following instructions: AVX2 FMA, in other operations, rebuild TensorFlow with the appropriate compiler flags.\n"
     ]
    }
   ],
   "source": [
    "import torch\n",
    "import torch.nn.functional as F\n",
    "from PIL import Image\n",
    "from torchvision import transforms\n",
    "from transformers import pipeline\n",
    "import requests\n",
    "from io import BytesIO\n",
    "import os\n"
   ]
  },
  {
   "cell_type": "code",
   "execution_count": 5,
   "id": "2ea41232",
   "metadata": {},
   "outputs": [],
   "source": [
    "# Skin disease class names\n",
    "class_names = [\n",
    "    'Basal Cell Carcinoma', 'Darier_s Disease', 'Epidermolysis Bullosa Pruriginosa',\n",
    "    'Hailey-Hailey Disease', 'Herpes Simplex', 'Impetigo', 'Larva Migrans',\n",
    "    'Leprosy Borderline', 'Leprosy Lepromatous', 'Leprosy Tuberculoid',\n",
    "    'Lichen Planus', 'Lupus Erythematosus Chronicus Discoides', 'Melanoma',\n",
    "    'Molluscum Contagiosum', 'Mycosis Fungoides', 'Neurofibromatosis',\n",
    "    'Papilomatosis Confluentes And Reticulate', 'Pediculosis Capitis',\n",
    "    'Pityriasis Rosea', 'Porokeratosis Actinic', 'Psoriasis', 'Tinea Corporis',\n",
    "    'Tinea Nigra', 'Tungiasis', 'actinic keratosis', 'dermatofibroma', 'nevus',\n",
    "    'pigmented benign keratosis', 'seborrheic keratosis', 'squamous cell carcinoma',\n",
    "    'vascular lesion'\n",
    "]\n",
    "\n",
    "# Preprocessing pipeline\n",
    "preprocess = transforms.Compose([\n",
    "    transforms.Resize(256),\n",
    "    transforms.CenterCrop(224),\n",
    "    transforms.ToTensor(),\n",
    "    transforms.Normalize(mean=[0.485, 0.456, 0.406], std=[0.229, 0.224, 0.225]),\n",
    "])\n"
   ]
  },
  {
   "cell_type": "code",
   "execution_count": 6,
   "id": "4f837b8f",
   "metadata": {},
   "outputs": [
    {
     "name": "stdout",
     "output_type": "stream",
     "text": [
      "✅ Classification model loaded from model_mobile.pt\n"
     ]
    }
   ],
   "source": [
    "def load_classification_model(model_path):\n",
    "    try:\n",
    "        model = torch.jit.load(model_path)\n",
    "        model.eval()\n",
    "        print(f\"✅ Classification model loaded from {model_path}\")\n",
    "        return model\n",
    "    except Exception as e:\n",
    "        print(f\"❌ Error loading classification model: {e}\")\n",
    "        return None\n",
    "\n",
    "# Example: Replace with your actual model path\n",
    "model_path = \"model_mobile.pt\"\n",
    "model = load_classification_model(model_path)\n"
   ]
  },
  {
   "cell_type": "code",
   "execution_count": 7,
   "id": "aeea1390",
   "metadata": {},
   "outputs": [],
   "source": [
    "def classify_image(model, image, class_names):\n",
    "    if isinstance(image, str):\n",
    "        if image.startswith('http'):\n",
    "            response = requests.get(image)\n",
    "            image = Image.open(BytesIO(response.content)).convert(\"RGB\")\n",
    "        else:\n",
    "            image = Image.open(image).convert(\"RGB\")\n",
    "    \n",
    "    input_tensor = preprocess(image).unsqueeze(0)\n",
    "\n",
    "    with torch.no_grad():\n",
    "        output = model(input_tensor)\n",
    "    \n",
    "    probs = F.softmax(output, dim=-1)\n",
    "    predicted_class_idx = probs.argmax(-1).item()\n",
    "    confidence = probs[0, predicted_class_idx].item()\n",
    "\n",
    "    top_probs, top_indices = torch.topk(probs, 3, dim=1)\n",
    "    top_predictions = [\n",
    "        {\"class\": class_names[idx], \"confidence\": prob.item() * 100}\n",
    "        for prob, idx in zip(top_probs[0], top_indices[0])\n",
    "    ]\n",
    "\n",
    "    predicted_class_name = class_names[predicted_class_idx]\n",
    "\n",
    "    return {\n",
    "        \"predicted_class\": predicted_class_name,\n",
    "        \"confidence\": confidence * 100,\n",
    "        \"top_predictions\": top_predictions\n",
    "    }\n"
   ]
  },
  {
   "cell_type": "code",
   "execution_count": 8,
   "id": "bab8b916",
   "metadata": {},
   "outputs": [
    {
     "name": "stderr",
     "output_type": "stream",
     "text": [
      "Device set to use cpu\n"
     ]
    },
    {
     "name": "stdout",
     "output_type": "stream",
     "text": [
      "✅ LLM loaded on CPU: TinyLlama/TinyLlama-1.1B-Chat-v1.0\n"
     ]
    }
   ],
   "source": [
    "def load_llm(llm_model=\"TinyLlama/TinyLlama-1.1B-Chat-v1.0\"):\n",
    "    try:\n",
    "        llm = pipeline(\"text-generation\", model=llm_model, device=\"cpu\")  # Explicitly set to CPU\n",
    "        print(f\"✅ LLM loaded on CPU: {llm_model}\")\n",
    "        return llm\n",
    "    except Exception as e:\n",
    "        print(f\"❌ Error loading LLM: {e}\")\n",
    "        return None\n",
    "\n",
    "llm = load_llm()\n"
   ]
  },
  {
   "cell_type": "code",
   "execution_count": 9,
   "id": "367b7f47",
   "metadata": {},
   "outputs": [],
   "source": [
    "def generate_llm_prompt(classification_result, user_question=None):\n",
    "    predicted_class = classification_result[\"predicted_class\"]\n",
    "    confidence = classification_result[\"confidence\"]\n",
    "\n",
    "    system_prompt = f\"\"\"As a dermatology assistant, I've analyzed an image and detected {predicted_class} with {confidence:.2f}% confidence. \n",
    "My secondary predictions are: {', '.join([f\"{p['class']} ({p['confidence']:.2f}%)\" for p in classification_result['top_predictions'][1:]])}. \n",
    "Based on this analysis, provide helpful, factual medical information about {predicted_class}. \n",
    "IMPORTANT: Always advise the patient to consult with a healthcare professional for proper diagnosis and treatment.\"\"\"\n",
    "\n",
    "    if user_question:\n",
    "        return f\"{system_prompt}\\n\\nPatient question: {user_question}\"\n",
    "    else:\n",
    "        return f\"{system_prompt}\\n\\nProvide basic information about this condition, its common treatments, and necessary precautions.\"\n"
   ]
  },
  {
   "cell_type": "code",
   "execution_count": 10,
   "id": "f43437c2",
   "metadata": {},
   "outputs": [],
   "source": [
    "def generate_response(llm, classification_result, user_question=None):\n",
    "    if llm is None:\n",
    "        return \"LLM is not available. Please check model initialization.\"\n",
    "    \n",
    "    prompt = generate_llm_prompt(classification_result, user_question)\n",
    "    messages = [{\"role\": \"user\", \"content\": prompt}]\n",
    "    \n",
    "    try:\n",
    "        response = llm(messages, max_length=500, temperature=0.7)\n",
    "        return response[0]['generated_text']\n",
    "    except Exception as e:\n",
    "        return f\"Error generating response: {e}\"\n"
   ]
  },
  {
   "cell_type": "code",
   "execution_count": 11,
   "id": "da0471dc",
   "metadata": {},
   "outputs": [],
   "source": [
    "def process_image_and_question(model, llm, image_path, user_question=None):\n",
    "    classification_result = classify_image(model, image_path, class_names)\n",
    "    llm_response = generate_response(llm, classification_result, user_question)\n",
    "    return classification_result, llm_response\n"
   ]
  },
  {
   "cell_type": "code",
   "execution_count": 12,
   "id": "22a52ac3",
   "metadata": {},
   "outputs": [
    {
     "name": "stdout",
     "output_type": "stream",
     "text": [
      "\n",
      "----- CLASSIFICATION RESULTS -----\n",
      "Detected: Psoriasis (Confidence: 91.63%)\n",
      "\n",
      "----- AI ASSISTANT RESPONSE -----\n",
      "[{'role': 'user', 'content': \"As a dermatology assistant, I've analyzed an image and detected Psoriasis with 91.63% confidence. \\nMy secondary predictions are: Lichen Planus (4.13%), Hailey-Hailey Disease (1.18%). \\nBased on this analysis, provide helpful, factual medical information about Psoriasis. \\nIMPORTANT: Always advise the patient to consult with a healthcare professional for proper diagnosis and treatment.\\n\\nPatient question: What are the treatments for this condition and how serious is it?\"}, {'role': 'assistant', 'content': \"As a dermatology assistant, you have analyzed an image of Psoriasis and detected the following secondary predictions: Lichen Planus (4.13%), Hailey-Hailey Disease (1.18%).\\n\\nPsoriasis is a chronic, inflammatory skin condition that affects the skin's surface, causing red, itchy, and scaly patches. It is a common skin disorder that affects millions of people worldwide. Treatments for Psoriasis can vary depending on the severity and type of the disease.\\n\\nThe most common treatments for Psoriasis include:\\n\\n1. Topical therapy: This involves applying medicated creams, ointments, or lotions to the affected areas.\\n\\n2. Oral therapy: This involves taking medications such as methotrexate, cyclosporine, or azathioprine to reduce inflammation and improve symptoms.\\n\\n3. Systemic therapy: This involves taking medications that target the underlying cause of the disease, such as biologics or immunosuppressants.\\n\\n4. Surgery: This may be necessary for severe or disfiguring Psoriasis.\\n\\nPsoriasis can be serious and can lead to complications such as skin infections, depression, and joint pain. It is essential to consult with a healthcare professional for proper diagnosis and treatment.\\n\\nIn conclusion, Psoriasis is a common skin disorder that can be treated with various treatments. It is essential to seek medical advice from a healthcare professional to ensure\"}]\n"
     ]
    }
   ],
   "source": [
    "image_path = \"/home/rabieash/projects/GP/psoriasis-treatment-in-houston.jpg\"\n",
    "user_question = \"What are the treatments for this condition and how serious is it?\"\n",
    "\n",
    "if os.path.exists(image_path):\n",
    "    classification, response = process_image_and_question(model, llm, image_path, user_question)\n",
    "\n",
    "    print(\"\\n----- CLASSIFICATION RESULTS -----\")\n",
    "    print(f\"Detected: {classification['predicted_class']} (Confidence: {classification['confidence']:.2f}%)\")\n",
    "\n",
    "    print(\"\\n----- AI ASSISTANT RESPONSE -----\")\n",
    "    print(response)\n",
    "else:\n",
    "    print(f\"Image not found at {image_path}\")\n"
   ]
  },
  {
   "cell_type": "code",
   "execution_count": 15,
   "id": "34564e7d",
   "metadata": {},
   "outputs": [
    {
     "name": "stdout",
     "output_type": "stream",
     "text": [
      "\n",
      "----- CLASSIFICATION RESULTS -----\n",
      "Detected: Pityriasis Rosea (Confidence: 100.00%)\n",
      "\n",
      "----- AI ASSISTANT RESPONSE -----\n",
      "[{'role': 'user', 'content': \"As a dermatology assistant, I've analyzed an image and detected Pityriasis Rosea with 100.00% confidence. \\nMy secondary predictions are: Tinea Corporis (0.00%), Psoriasis (0.00%). \\nBased on this analysis, provide helpful, factual medical information about Pityriasis Rosea. \\nIMPORTANT: Always advise the patient to consult with a healthcare professional for proper diagnosis and treatment.\\n\\nPatient question: What are the treatments for this condition and how serious is it\"}, {'role': 'assistant', 'content': \"Pityriasis Rosea is a common skin condition characterized by a red, itchy, and scaly rash that typically appears on the trunk, arms, and legs. It is caused by a fungus called Pityrosporum ovale, which can affect people of all ages and races. Treatment options for Pityriasis Rosea include topical antifungal medications, such as ketoconazole or terbinafine, and oral antifungal medications, such as itraconazole or voriconazole. These medications can help reduce the severity and duration of the rash, but they are not cure-alls. In severe cases, surgical removal of the affected skin may be necessary. It's essential to note that Pityriasis Rosea is not contagious and can be managed with proper hygiene and self-care. It's always recommended to consult with a healthcare professional for proper diagnosis and treatment.\"}]\n"
     ]
    }
   ],
   "source": [
    "image_path = \"/home/rabieash/projects/GP/Pityriasis rosea.jpg\"\n",
    "user_question = \"What are the treatments for this condition and how serious is it\"\n",
    "\n",
    "if os.path.exists(image_path):\n",
    "    classification, response = process_image_and_question(model, llm, image_path, user_question)\n",
    "\n",
    "    print(\"\\n----- CLASSIFICATION RESULTS -----\")\n",
    "    print(f\"Detected: {classification['predicted_class']} (Confidence: {classification['confidence']:.2f}%)\")\n",
    "\n",
    "    print(\"\\n----- AI ASSISTANT RESPONSE -----\")\n",
    "    print(response)\n",
    "else:\n",
    "    print(f\"Image not found at {image_path}\")\n"
   ]
  },
  {
   "cell_type": "code",
   "execution_count": 9,
   "id": "9babd572",
   "metadata": {},
   "outputs": [],
   "source": [
    "def ask_patient_info():\n",
    "    age = input(\"Enter your age: \")\n",
    "    sex = input(\"Enter your sex (Male/Female/Other): \")\n",
    "    return {\n",
    "        \"age\": age.strip(),\n",
    "        \"sex\": sex.strip().capitalize()\n",
    "    }\n",
    "\n",
    "patient_info = ask_patient_info()\n"
   ]
  },
  {
   "cell_type": "code",
   "execution_count": 10,
   "id": "d6cb78a7",
   "metadata": {},
   "outputs": [],
   "source": [
    "def generate_llm_prompt(classification_result, user_question=None, patient_info=None):\n",
    "    predicted_class = classification_result[\"predicted_class\"]\n",
    "    confidence = classification_result[\"confidence\"]\n",
    "\n",
    "    # Add patient context if provided\n",
    "    patient_context = \"\"\n",
    "    if patient_info:\n",
    "        patient_context = (\n",
    "            \"Patient details:\\n\"\n",
    "            f\"- Age: {patient_info.get('age', 'N/A')}\\n\"\n",
    "            f\"- Sex: {patient_info.get('sex', 'N/A')}\\n\"\n",
    "            \"\\nTailor your response to the patient's age and sex when discussing risks, \"\n",
    "            \"treatment options, or common symptoms.\"\n",
    "        )\n",
    "\n",
    "    # Base prompt\n",
    "    system_prompt = f\"\"\"As a dermatology assistant, I've analyzed an image and detected {predicted_class} with {confidence:.2f}% confidence.\n",
    "My secondary predictions are: {', '.join([f\"{p['class']} ({p['confidence']:.2f}%)\" for p in classification_result['top_predictions'][1:]])}.\n",
    "{patient_context}\n",
    "\n",
    "Based on this analysis, provide helpful, factual medical information about {predicted_class}.\n",
    "IMPORTANT: Always advise the patient to consult with a healthcare professional for proper diagnosis and treatment.\"\"\"\n",
    "\n",
    "    if user_question:\n",
    "        return f\"{system_prompt}\\n\\nPatient question: {user_question}\"\n",
    "    else:\n",
    "        return f\"{system_prompt}\\n\\nProvide basic information about this condition, its common treatments, and necessary precautions.\"\n"
   ]
  },
  {
   "cell_type": "code",
   "execution_count": 11,
   "id": "c90f1369",
   "metadata": {},
   "outputs": [],
   "source": [
    "def generate_response(llm, classification_result, user_question=None, patient_info=None):\n",
    "    if llm is None:\n",
    "        return \"LLM is not available. Please check model initialization.\"\n",
    "\n",
    "    # Only add user question if provided\n",
    "    prompt = generate_llm_prompt(classification_result, user_question, patient_info)\n",
    "    messages = [{\"role\": \"user\", \"content\": prompt}]\n",
    "    \n",
    "    try:\n",
    "        # Set truncation=True to avoid truncation warnings\n",
    "        response = llm(messages, max_length=500, temperature=0.7, truncation=True)\n",
    "        return response[0]['generated_text']\n",
    "    except Exception as e:\n",
    "        return f\"Error generating response: {e}\"\n",
    "\n"
   ]
  },
  {
   "cell_type": "code",
   "execution_count": 12,
   "id": "f63bc4f8",
   "metadata": {},
   "outputs": [],
   "source": [
    "def process_image_and_question(model, llm, image_path, user_question=None, patient_info=None):\n",
    "    classification_result = classify_image(model, image_path, class_names)\n",
    "    llm_response = generate_response(llm, classification_result, user_question, patient_info)\n",
    "    return classification_result, llm_response"
   ]
  },
  {
   "cell_type": "code",
   "execution_count": 14,
   "id": "6c00f705",
   "metadata": {},
   "outputs": [
    {
     "name": "stderr",
     "output_type": "stream",
     "text": [
      "/home/rabieash/miniconda3/envs/pytorch_env/lib/python3.9/site-packages/transformers/generation/configuration_utils.py:631: UserWarning: `do_sample` is set to `False`. However, `temperature` is set to `0.7` -- this flag is only used in sample-based generation modes. You should set `do_sample=True` or unset `temperature`.\n",
      "  warnings.warn(\n"
     ]
    },
    {
     "name": "stdout",
     "output_type": "stream",
     "text": [
      "\n",
      "----- CLASSIFICATION RESULTS -----\n",
      "Detected: Pityriasis Rosea (Confidence: 100.00%)\n",
      "\n",
      "----- AI ASSISTANT RESPONSE -----\n",
      "[{'role': 'user', 'content': \"As a dermatology assistant, I've analyzed an image and detected Pityriasis Rosea with 100.00% confidence.\\nMy secondary predictions are: Tinea Corporis (0.00%), Psoriasis (0.00%).\\nPatient details:\\n- Age: \\n- Sex: 22\\n\\nTailor your response to the patient's age and sex when discussing risks, treatment options, or common symptoms.\\n\\nBased on this analysis, provide helpful, factual medical information about Pityriasis Rosea.\\nIMPORTANT: Always advise the patient to consult with a healthcare professional for proper diagnosis and treatment.\\n\\nPatient question: What are the treatments for this condition and how serious is it\"}, {'role': 'assistant', 'content': \"As a dermatology assistant, I've analyzed an image and detected Pityriasis Rosea with 100.00% confidence.\\n\\nPatient details:\\n- Age: 22\\n\\nTailor your response to the patient's age when discussing risks, treatment options, or common symptoms.\\n\\nBased on this analysis, provide helpful, factual medical information about Pityriasis Rosea.\\n\\nPatient question: What are the treatments for Pityriasis Rosea and how serious is it?\\n\\nAnswer: Pityriasis Rosea is a common skin condition that can cause red, itchy, and scaly patches on the skin. Treatment options for Pityriasis Rosea may include topical medications, such as antifungal creams or ointments, or oral medications, such as antifungal pills or antibiotics. While Pityriasis Rosea is not life-threatening, it can cause discomfort and irritation, and it's essential to consult with a healthcare professional for proper diagnosis and treatment.\"}]\n"
     ]
    }
   ],
   "source": [
    "image_path = \"//home/rabieash/projects/GP/Pityriasis rosea.jpg\"\n",
    "user_question = \"What are the treatments for this condition and how serious is it\"\n",
    "\n",
    "if os.path.exists(image_path):\n",
    "    classification, response = process_image_and_question(model, llm, image_path, user_question, patient_info)\n",
    "\n",
    "    print(\"\\n----- CLASSIFICATION RESULTS -----\")\n",
    "    print(f\"Detected: {classification['predicted_class']} (Confidence: {classification['confidence']:.2f}%)\")\n",
    "\n",
    "    print(\"\\n----- AI ASSISTANT RESPONSE -----\")\n",
    "    print(response)\n",
    "else:\n",
    "    print(f\"Image not found at {image_path}\")\n"
   ]
  }
 ],
 "metadata": {
  "kernelspec": {
   "display_name": "pytorch_env",
   "language": "python",
   "name": "python3"
  },
  "language_info": {
   "codemirror_mode": {
    "name": "ipython",
    "version": 3
   },
   "file_extension": ".py",
   "mimetype": "text/x-python",
   "name": "python",
   "nbconvert_exporter": "python",
   "pygments_lexer": "ipython3",
   "version": "3.9.21"
  }
 },
 "nbformat": 4,
 "nbformat_minor": 5
}
